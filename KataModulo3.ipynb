{
 "cells": [
  {
   "cell_type": "markdown",
   "metadata": {},
   "source": [
    "Ejercicio - Escribir declaraciones if, else, y elif"
   ]
  },
  {
   "cell_type": "code",
   "execution_count": null,
   "metadata": {},
   "outputs": [],
   "source": [
    "asteroide = 49\n",
    "if asteroide > 25:\n",
    "    print('Un asteroide se acerca a velocidades alarmantes')\n"
   ]
  },
  {
   "cell_type": "code",
   "execution_count": null,
   "metadata": {},
   "outputs": [],
   "source": [
    "else:\n",
    "    print('Por ahora todo tranquilo ')\n"
   ]
  },
  {
   "cell_type": "code",
   "execution_count": null,
   "metadata": {},
   "outputs": [],
   "source": [
    "asteroide = 19 \n",
    "if asteroide > 20:\n",
    "    print('Se puede visualizar una luz en el cielo')\n",
    "elif asteroide == 20:\n",
    "    print('Se puede visualizar una luz en el cielo')\n",
    "else:\n",
    "    print('Todo despegado en el cielo')\n",
    "    "
   ]
  },
  {
   "cell_type": "markdown",
   "metadata": {},
   "source": [
    "Ejercicio: Uso de operadores and y or"
   ]
  },
  {
   "cell_type": "code",
   "execution_count": null,
   "metadata": {},
   "outputs": [],
   "source": [
    "v_asteroide = 25\n",
    "t_asteroide = 40\n",
    "if v_asteroide > 25 and t_asteroide > 25:\n",
    "    print('¡Alerta, un asteroide peligroso se acerca a la Tierra!')\n",
    "elif v_asteroide >=20:\n",
    "    print('Se puede visualizar una luz en el cielo')\n",
    "elif t_asteroide <25:\n",
    "    print('Todo despegado')\n",
    "else:\n",
    "    print ('Todo bajo control')"
   ]
  }
 ],
 "metadata": {
  "language_info": {
   "name": "python"
  },
  "orig_nbformat": 4
 },
 "nbformat": 4,
 "nbformat_minor": 2
}
