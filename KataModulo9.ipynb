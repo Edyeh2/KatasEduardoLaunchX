{
 "cells": [
  {
   "cell_type": "markdown",
   "metadata": {},
   "source": [
    "Ejercicio: Uso de funciones en Python"
   ]
  },
  {
   "cell_type": "code",
   "execution_count": 3,
   "metadata": {},
   "outputs": [],
   "source": [
    "def tank_report(tank1, tank2, tank3):\n",
    "    promedio_total = (tank1 + tank2 + tank3)/ 3\n",
    "    return f\"\"\"Fuel Report:\n",
    "    Total Average: {promedio_total}%\n",
    "    Main tank: {tank1}%\n",
    "    External tank: {tank2}%\n",
    "    Hydrogen tank: {tank3}% \n",
    "    \"\"\""
   ]
  },
  {
   "cell_type": "code",
   "execution_count": 4,
   "metadata": {},
   "outputs": [
    {
     "name": "stdout",
     "output_type": "stream",
     "text": [
      "Fuel Report:\n",
      "    Total Average: 56.666666666666664%\n",
      "    Main tank: 30%\n",
      "    External tank: 55%\n",
      "    Hydrogen tank: 85% \n",
      "    \n"
     ]
    }
   ],
   "source": [
    "print(tank_report(30, 55, 85))"
   ]
  },
  {
   "cell_type": "code",
   "execution_count": 6,
   "metadata": {},
   "outputs": [
    {
     "data": {
      "text/plain": [
       "82.0"
      ]
     },
     "execution_count": 6,
     "metadata": {},
     "output_type": "execute_result"
    }
   ],
   "source": [
    "def promedio(valores):\n",
    "    total = sum(valores)\n",
    "    n_elementos = len(valores)\n",
    "    return total / n_elementos\n",
    "\n",
    "promedio([80,85,81])"
   ]
  },
  {
   "cell_type": "code",
   "execution_count": 7,
   "metadata": {},
   "outputs": [
    {
     "name": "stdout",
     "output_type": "stream",
     "text": [
      "Reporte Completo:\n",
      "    Promedio Totla: 78.0%\n",
      "    Tank 1: 88 %\n",
      "    Tank 2: 76%\n",
      "    Tank 3: 70%\n",
      "    \n"
     ]
    }
   ],
   "source": [
    "def tank_report(tank1, tank2, tank3):\n",
    "    return f\"\"\"Reporte Completo:\n",
    "    Promedio Totla: {promedio([tank1,tank2,tank3])}%\n",
    "    Tank 1: {tank1} %\n",
    "    Tank 2: {tank2}%\n",
    "    Tank 3: {tank3}%\n",
    "    \"\"\"\n",
    "print(tank_report(88,76,70))"
   ]
  },
  {
   "cell_type": "markdown",
   "metadata": {},
   "source": [
    "Ejercicio 2: Trabajo con argumentos de palabra clave"
   ]
  },
  {
   "cell_type": "code",
   "execution_count": 8,
   "metadata": {},
   "outputs": [
    {
     "name": "stdout",
     "output_type": "stream",
     "text": [
      "\n",
      "    Misión a Moon\n",
      "    Tiempo total del viaje: 65 minutos\n",
      "    Total de combustible: 500000 galones\n",
      "    \n"
     ]
    }
   ],
   "source": [
    "def reporte_mision(pre_launch_time, flight_time, destination, external_tank, main_tank):\n",
    "    return f\"\"\"\n",
    "    Misión a {destination}\n",
    "    Tiempo total del viaje: {pre_launch_time + flight_time} minutos\n",
    "    Total de combustible: {external_tank + main_tank} galones\n",
    "    \"\"\"\n",
    "print(reporte_mision(14, 51, \"Moon\", 200000, 300000))"
   ]
  },
  {
   "cell_type": "code",
   "execution_count": 10,
   "metadata": {},
   "outputs": [
    {
     "name": "stdout",
     "output_type": "stream",
     "text": [
      "\n",
      "    Misión a Moon\n",
      "    Tiempo total de viaje: 74 minutos\n",
      "    Total de combustible: 500000\n",
      "    main tank --> 300000 gallons left \n",
      "\n"
     ]
    }
   ],
   "source": [
    "def reporte_mision(destination, *minutes, **fuel_reservoirs):\n",
    "    main_report = f\"\"\"\n",
    "    Misión a {destination}\n",
    "    Tiempo total de viaje: {sum(minutes)} minutos\n",
    "    Total de combustible: {sum(fuel_reservoirs.values())}\n",
    "    \"\"\"\n",
    "    for tank_name, gallons in fuel_reservoirs.items():\n",
    "        main_report += f\"{tank_name} tank --> {gallons} gallons left \\n\"\n",
    "        return main_report\n",
    "\n",
    "print(reporte_mision(\"Moon\", 8,11,55,main = 300000, external = 200000 ))"
   ]
  }
 ],
 "metadata": {
  "interpreter": {
   "hash": "e41a642cefacb2ec1be8d214e23d4bf06eebc160fcc3e2a230ffda1ba51a8661"
  },
  "kernelspec": {
   "display_name": "Python 3.9.9 64-bit",
   "language": "python",
   "name": "python3"
  },
  "language_info": {
   "codemirror_mode": {
    "name": "ipython",
    "version": 3
   },
   "file_extension": ".py",
   "mimetype": "text/x-python",
   "name": "python",
   "nbconvert_exporter": "python",
   "pygments_lexer": "ipython3",
   "version": "3.9.9"
  },
  "orig_nbformat": 4
 },
 "nbformat": 4,
 "nbformat_minor": 2
}
